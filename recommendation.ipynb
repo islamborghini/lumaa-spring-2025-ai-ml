{
  "cells": [
    {
      "cell_type": "markdown",
      "metadata": {
        "id": "ZUCDIiAbzZyM"
      },
      "source": [
        "### Installing Libraries"
      ]
    },
    {
      "cell_type": "code",
      "execution_count": null,
      "metadata": {
        "id": "te9wFlfaDBSV"
      },
      "outputs": [],
      "source": [
        "pip install pandas scikit-learn\n"
      ]
    },
    {
      "cell_type": "markdown",
      "metadata": {
        "id": "GPUVkhX6z0cZ"
      },
      "source": [
        "### Load the dataset"
      ]
    },
    {
      "cell_type": "code",
      "execution_count": null,
      "metadata": {
        "id": "YEUIbtPATdWY"
      },
      "outputs": [],
      "source": [
        "import pandas as pd\n",
        "from sklearn.feature_extraction.text import TfidfVectorizer\n",
        "from sklearn.metrics.pairwise import linear_kernel\n",
        "\n",
        "def load_dataset(csv_path: str = \"movie_dataset.csv\") -> pd.DataFrame:\n",
        "    \"\"\"\n",
        "    Loads the dataset into a pandas DataFrame.\n",
        "\n",
        "    input:\n",
        "    csv_path - the name of the dataset\n",
        "\n",
        "    output:\n",
        "    df - the dataset\n",
        "    \"\"\"\n",
        "    df = pd.read_csv(csv_path)\n",
        "\n",
        "    #create a combined text column for TF-IDF\n",
        "    df[\"combined_text\"] = (\n",
        "        df[\"original_title\"].fillna(\"\") + \" \" +\n",
        "        df[\"overview\"].fillna(\"\") + \" \" +\n",
        "        df[\"keywords\"].fillna(\"\") + \" \" +\n",
        "        df[\"genres\"].fillna(\"\") + \" \" +\n",
        "        df[\"cast\"].fillna(\"\") + \" \" +\n",
        "        df[\"director\"].fillna(\"\")\n",
        "    )\n",
        "\n",
        "    return df\n",
        "\n",
        "#load dataset\n",
        "df = load_dataset(\"movie_dataset.csv\")\n"
      ]
    },
    {
      "cell_type": "markdown",
      "metadata": {
        "id": "j3SeGa5Az-Pv"
      },
      "source": [
        "### Build the TF-IDF Matrix"
      ]
    },
    {
      "cell_type": "code",
      "execution_count": null,
      "metadata": {
        "id": "MdWO-tD1Tdhn"
      },
      "outputs": [],
      "source": [
        "def build_tfidf_matrix(text_series):\n",
        "    \"\"\"\n",
        "    Fits a TfidfVectorizer on the combined text (overview + keywords + genres + cast + director)\n",
        "    and transforms them into TF-IDF vectors.\n",
        "\n",
        "    input:\n",
        "    text_series - the combined text column\n",
        "\n",
        "    output:\n",
        "\n",
        "    vectorizer - the fitted vectorizer\n",
        "    tfidf_matrix - the TF-IDF matrix\n",
        "    \"\"\"\n",
        "    vectorizer = TfidfVectorizer(stop_words=\"english\")\n",
        "    tfidf_matrix = vectorizer.fit_transform(text_series)\n",
        "    return vectorizer, tfidf_matrix\n",
        "\n",
        "#build TF-IDF\n",
        "vectorizer, tfidf_matrix = build_tfidf_matrix(df[\"combined_text\"])\n"
      ]
    },
    {
      "cell_type": "markdown",
      "metadata": {
        "id": "C6LbC4qm0FA0"
      },
      "source": [
        "### Define the Recommendation Function"
      ]
    },
    {
      "cell_type": "code",
      "execution_count": null,
      "metadata": {
        "id": "8vELrv50Tdrf"
      },
      "outputs": [],
      "source": [
        "def get_recommendations(user_query, df, vectorizer, tfidf_matrix, top_n=5):\n",
        "    \"\"\"\n",
        "    Given a user query, transform it into TF-IDF and compute cosine similarity\n",
        "    against all items in the dataset. Return the top_n most similar items.\n",
        "\n",
        "    input:\n",
        "    user_query - the user query\n",
        "    df - the dataset\n",
        "    vectorizer - the fitted vectorizer\n",
        "    tfidf_matrix - the TF-IDF matrix\n",
        "    top_n - the number of recommendations to return\n",
        "\n",
        "    output:\n",
        "    results - the list of recommendations\n",
        "    \"\"\"\n",
        "\n",
        "    #transform user query to a TF-IDF vector\n",
        "    query_vec = vectorizer.transform([user_query])\n",
        "\n",
        "    #compute cosine similarity between query_vec and all movie vectors\n",
        "    cosine_similarities = linear_kernel(query_vec, tfidf_matrix).flatten()\n",
        "\n",
        "    #get the indices of the top_n similar items (descending order of similarity)\n",
        "    similar_indices = cosine_similarities.argsort()[::-1][:top_n]\n",
        "\n",
        "    #build the final list of recommendations\n",
        "    results = []\n",
        "    for idx in similar_indices:\n",
        "        movie_id = df.index[idx]\n",
        "\n",
        "        results.append({\n",
        "            \"movie_id\": movie_id,\n",
        "            \"original_title\": df.iloc[idx][\"original_title\"],\n",
        "            \"keywords\": df.iloc[idx][\"keywords\"],\n",
        "            \"overview\": df.iloc[idx][\"overview\"],\n",
        "            \"genres\": df.iloc[idx][\"genres\"],\n",
        "            \"similarity_score\": float(cosine_similarities[idx])\n",
        "        })\n",
        "    return results\n"
      ]
    },
    {
      "cell_type": "markdown",
      "metadata": {
        "id": "NkMGimSp0QQi"
      },
      "source": [
        "### Run the Recommendation System"
      ]
    },
    {
      "cell_type": "code",
      "execution_count": null,
      "metadata": {
        "id": "mFQk1WtXTdyD"
      },
      "outputs": [],
      "source": [
        "#user query input\n",
        "user_query = \"\"\n",
        "\n",
        "#get recommendations\n",
        "recommendations = get_recommendations(user_query, df, vectorizer, tfidf_matrix, top_n=5)\n",
        "\n",
        "#display results\n",
        "print(f\"\\nUser Query: {user_query}\\n\")\n",
        "print(f\"Top {len(recommendations)} Recommendations:\")\n",
        "for i, rec in enumerate(recommendations, start=1):\n",
        "    print(f\"{i}. {rec['original_title']} (ID: {rec['movie_id']}, score: {rec['similarity_score']:.4f})\")\n",
        "    print(f\"   Keywords: {rec['keywords']}\")\n",
        "    print(f\"   Overview: {rec['overview']}\")\n",
        "    print(f\"   Genres: {rec['genres']}\\n\")"
      ]
    }
  ],
  "metadata": {
    "colab": {
      "provenance": []
    },
    "kernelspec": {
      "display_name": "sage",
      "language": "python",
      "name": "python3"
    },
    "language_info": {
      "codemirror_mode": {
        "name": "ipython",
        "version": 3
      },
      "file_extension": ".py",
      "mimetype": "text/x-python",
      "name": "python",
      "nbconvert_exporter": "python",
      "pygments_lexer": "ipython3",
      "version": "3.9.6"
    }
  },
  "nbformat": 4,
  "nbformat_minor": 0
}
