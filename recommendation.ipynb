{
  "nbformat": 4,
  "nbformat_minor": 0,
  "metadata": {
    "colab": {
      "provenance": []
    },
    "kernelspec": {
      "name": "python3",
      "display_name": "Python 3"
    },
    "language_info": {
      "name": "python"
    }
  },
  "cells": [
    {
      "cell_type": "markdown",
      "source": [
        "### Installing Libraries"
      ],
      "metadata": {
        "id": "ZUCDIiAbzZyM"
      }
    },
    {
      "cell_type": "code",
      "execution_count": 19,
      "metadata": {
        "colab": {
          "base_uri": "https://localhost:8080/"
        },
        "id": "te9wFlfaDBSV",
        "outputId": "0ff1a7e9-3445-43ab-85f9-ad7983f72228"
      },
      "outputs": [
        {
          "output_type": "stream",
          "name": "stdout",
          "text": [
            "Requirement already satisfied: pandas in /usr/local/lib/python3.11/dist-packages (2.2.2)\n",
            "Requirement already satisfied: scikit-learn in /usr/local/lib/python3.11/dist-packages (1.6.1)\n",
            "Requirement already satisfied: numpy>=1.23.2 in /usr/local/lib/python3.11/dist-packages (from pandas) (1.26.4)\n",
            "Requirement already satisfied: python-dateutil>=2.8.2 in /usr/local/lib/python3.11/dist-packages (from pandas) (2.8.2)\n",
            "Requirement already satisfied: pytz>=2020.1 in /usr/local/lib/python3.11/dist-packages (from pandas) (2025.1)\n",
            "Requirement already satisfied: tzdata>=2022.7 in /usr/local/lib/python3.11/dist-packages (from pandas) (2025.1)\n",
            "Requirement already satisfied: scipy>=1.6.0 in /usr/local/lib/python3.11/dist-packages (from scikit-learn) (1.13.1)\n",
            "Requirement already satisfied: joblib>=1.2.0 in /usr/local/lib/python3.11/dist-packages (from scikit-learn) (1.4.2)\n",
            "Requirement already satisfied: threadpoolctl>=3.1.0 in /usr/local/lib/python3.11/dist-packages (from scikit-learn) (3.5.0)\n",
            "Requirement already satisfied: six>=1.5 in /usr/local/lib/python3.11/dist-packages (from python-dateutil>=2.8.2->pandas) (1.17.0)\n"
          ]
        }
      ],
      "source": [
        "pip install pandas scikit-learn\n"
      ]
    },
    {
      "cell_type": "markdown",
      "source": [
        "### Load the dataset"
      ],
      "metadata": {
        "id": "GPUVkhX6z0cZ"
      }
    },
    {
      "cell_type": "code",
      "source": [
        "import pandas as pd\n",
        "from sklearn.feature_extraction.text import TfidfVectorizer\n",
        "from sklearn.metrics.pairwise import linear_kernel\n",
        "\n",
        "def load_dataset(csv_path: str = \"movies_dataset.csv\") -> pd.DataFrame:\n",
        "    \"\"\"\n",
        "    Loads the dataset into a pandas DataFrame.\n",
        "\n",
        "    input:\n",
        "    csv_path - the name of the dataset\n",
        "\n",
        "    output:\n",
        "    df - the dataset\n",
        "    \"\"\"\n",
        "    df = pd.read_csv(csv_path)\n",
        "\n",
        "    #create a combined text column for TF-IDF\n",
        "    df[\"combined_text\"] = (\n",
        "        df[\"original_title\"].fillna(\"\") + \" \" +\n",
        "        df[\"overview\"].fillna(\"\") + \" \" +\n",
        "        df[\"keywords\"].fillna(\"\") + \" \" +\n",
        "        df[\"genres\"].fillna(\"\") + \" \" +\n",
        "        df[\"cast\"].fillna(\"\") + \" \" +\n",
        "        df[\"director\"].fillna(\"\")\n",
        "    )\n",
        "\n",
        "    return df\n",
        "\n",
        "#load dataset\n",
        "df = load_dataset(\"movie_dataset.csv\")\n"
      ],
      "metadata": {
        "id": "YEUIbtPATdWY"
      },
      "execution_count": 20,
      "outputs": []
    },
    {
      "cell_type": "markdown",
      "source": [
        "### Build the TF-IDF Matrix"
      ],
      "metadata": {
        "id": "j3SeGa5Az-Pv"
      }
    },
    {
      "cell_type": "code",
      "source": [
        "def build_tfidf_matrix(text_series):\n",
        "    \"\"\"\n",
        "    Fits a TfidfVectorizer on the combined text (overview + keywords + genres + cast + director)\n",
        "    and transforms them into TF-IDF vectors.\n",
        "\n",
        "    input:\n",
        "    text_series - the combined text column\n",
        "\n",
        "    output:\n",
        "\n",
        "    vectorizer - the fitted vectorizer\n",
        "    tfidf_matrix - the TF-IDF matrix\n",
        "    \"\"\"\n",
        "    vectorizer = TfidfVectorizer(stop_words=\"english\")\n",
        "    tfidf_matrix = vectorizer.fit_transform(text_series)\n",
        "    return vectorizer, tfidf_matrix\n",
        "\n",
        "#build TF-IDF\n",
        "vectorizer, tfidf_matrix = build_tfidf_matrix(df[\"combined_text\"])\n"
      ],
      "metadata": {
        "id": "MdWO-tD1Tdhn"
      },
      "execution_count": 21,
      "outputs": []
    },
    {
      "cell_type": "markdown",
      "source": [
        "### Define the Recommendation Function"
      ],
      "metadata": {
        "id": "C6LbC4qm0FA0"
      }
    },
    {
      "cell_type": "code",
      "source": [
        "def get_recommendations(user_query, df, vectorizer, tfidf_matrix, top_n=5):\n",
        "    \"\"\"\n",
        "    Given a user query, transform it into TF-IDF and compute cosine similarity\n",
        "    against all items in the dataset. Return the top_n most similar items.\n",
        "\n",
        "    input:\n",
        "    user_query - the user query\n",
        "    df - the dataset\n",
        "    vectorizer - the fitted vectorizer\n",
        "    tfidf_matrix - the TF-IDF matrix\n",
        "    top_n - the number of recommendations to return\n",
        "\n",
        "    output:\n",
        "    results - the list of recommendations\n",
        "    \"\"\"\n",
        "\n",
        "    #transform user query to a TF-IDF vector\n",
        "    query_vec = vectorizer.transform([user_query])\n",
        "\n",
        "    #compute cosine similarity between query_vec and all movie vectors\n",
        "    cosine_similarities = linear_kernel(query_vec, tfidf_matrix).flatten()\n",
        "\n",
        "    #get the indices of the top_n similar items (descending order of similarity)\n",
        "    similar_indices = cosine_similarities.argsort()[::-1][:top_n]\n",
        "\n",
        "    #build the final list of recommendations\n",
        "    results = []\n",
        "    for idx in similar_indices:\n",
        "        movie_id = df.index[idx]\n",
        "\n",
        "        results.append({\n",
        "            \"movie_id\": movie_id,\n",
        "            \"original_title\": df.iloc[idx][\"original_title\"],\n",
        "            \"keywords\": df.iloc[idx][\"keywords\"],\n",
        "            \"overview\": df.iloc[idx][\"overview\"],\n",
        "            \"genres\": df.iloc[idx][\"genres\"],\n",
        "            \"similarity_score\": float(cosine_similarities[idx])\n",
        "        })\n",
        "    return results\n"
      ],
      "metadata": {
        "id": "8vELrv50Tdrf"
      },
      "execution_count": 22,
      "outputs": []
    },
    {
      "cell_type": "markdown",
      "source": [
        "### Run the Recommendation System"
      ],
      "metadata": {
        "id": "NkMGimSp0QQi"
      }
    },
    {
      "cell_type": "code",
      "source": [
        "#user query input\n",
        "user_query = input(\"Please enter your movie preference: \\n\")\n",
        "\n",
        "#get recommendations\n",
        "recommendations = get_recommendations(user_query, df, vectorizer, tfidf_matrix, top_n=5)\n",
        "\n",
        "#display results\n",
        "print(f\"\\nUser Query: {user_query}\\n\")\n",
        "print(f\"Top {len(recommendations)} Recommendations:\")\n",
        "for i, rec in enumerate(recommendations, start=1):\n",
        "    print(f\"{i}. {rec['original_title']} (ID: {rec['movie_id']}, score: {rec['similarity_score']:.4f})\")\n",
        "    print(f\"   Keywords: {rec['keywords']}\")\n",
        "    print(f\"   Overview: {rec['overview']}\")\n",
        "    print(f\"   Genres: {rec['genres']}\\n\")\n"
      ],
      "metadata": {
        "colab": {
          "base_uri": "https://localhost:8080/"
        },
        "id": "mFQk1WtXTdyD",
        "outputId": "a1bbaf3f-3435-42b7-f515-0a75586da353"
      },
      "execution_count": 23,
      "outputs": [
        {
          "output_type": "stream",
          "name": "stdout",
          "text": [
            "Please enter your movie preference: \n",
            "I like horror movies with the beach \n",
            "\n",
            "User Query: I like horror movies with the beach \n",
            "\n",
            "Top 5 Recommendations:\n",
            "1. Évolution (ID: 474, score: 0.1704)\n",
            "   Keywords: nurse sea beach boy pregnant\n",
            "   Overview: 11-year-old Nicolas lives with his mother in a seaside housing estate. The only place that ever sees any activity is the hospital. It is there that all the boys from the village are forced to undergo strange medical trials that attempt to disrupt the phases of evolution.\n",
            "   Genres: Mystery Drama Horror\n",
            "\n",
            "2. The Haunting (ID: 451, score: 0.1240)\n",
            "   Keywords: based on novel trauma castle haunted house insomnia\n",
            "   Overview: Dr. David Marrow invites Nell Vance, and Theo and Luke Sanderson to the eerie and isolated Hill House to be subjects for a sleep disorder study. The unfortunate guests discover that Marrow is far more interested in the sinister mansion itself – and they soon see the true nature of its horror.\n",
            "   Genres: Horror Thriller Fantasy Mystery\n",
            "\n",
            "3. Windtalkers (ID: 236, score: 0.1023)\n",
            "   Keywords: japan world war ii radio transmission marine corps u.s. army\n",
            "   Overview: Joe Enders is a gung-ho Marine assigned to protect a \"windtalker\" - one of several Navajo Indians who were used to relay messages during World War II because their spoken language was indecipherable to Japanese code breakers.\n",
            "   Genres: Drama Action History War\n",
            "\n",
            "4. Just Go with It (ID: 445, score: 0.0974)\n",
            "   Keywords: beach fictitious marriage blackmail plastic surgery marriage\n",
            "   Overview: A plastic surgeon, romancing a much younger schoolteacher, enlists his loyal assistant to pretend to be his soon to be ex-wife, in order to cover up a careless lie. When more lies backfire, the assistant's kids become involved, and everyone heads off for a weekend in Hawaii that will change all their lives.\n",
            "   Genres: Romance Comedy\n",
            "\n",
            "5. Creepshow (ID: 417, score: 0.0757)\n",
            "   Keywords: monster halloween meteor buried alive cockroach\n",
            "   Overview: Inspired by the E.C. comics of the 1950s, George A.Romero and Stephen King bring five tales of terror to the screen.\n",
            "   Genres: Horror Comedy Fantasy\n",
            "\n"
          ]
        }
      ]
    }
  ]
}